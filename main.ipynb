{
 "cells": [
  {
   "cell_type": "markdown",
   "metadata": {},
   "source": [
    "# <b/>1. Import Libararies"
   ]
  },
  {
   "cell_type": "code",
   "execution_count": 1,
   "metadata": {},
   "outputs": [
    {
     "name": "stderr",
     "output_type": "stream",
     "text": []
    }
   ],
   "source": [
    "import numpy as np\n",
    "import matplotlib.pyplot as plt\n",
    "from tensorflow import device\n",
    "from keras import backend\n",
    "from keras.models import Sequential\n",
    "from keras.layers import Conv2D, BatchNormalization, MaxPooling2D, UpSampling2D"
   ]
  },
  {
   "cell_type": "markdown",
   "metadata": {},
   "source": [
    "# <b/>2. Define Dice Coefficient & Loss"
   ]
  },
  {
   "cell_type": "code",
   "execution_count": 2,
   "metadata": {},
   "outputs": [],
   "source": [
    "def dice_coef(y_true, y_pred):\n",
    "    \n",
    "    y_true_f = backend.flatten(y_true)\n",
    "    y_pred_f = backend.flatten(y_pred)\n",
    "\n",
    "    intersection = backend.sum(y_true_f * y_pred_f)\n",
    "    return (2. * intersection + 1e-7) / (backend.sum(y_true_f) + backend.sum(y_pred_f) + 1e-7)\n",
    "def dice_coef_loss(y_true, y_pred):\n",
    "    y_true_f = backend.flatten(y_true)\n",
    "    y_pred_f = backend.flatten(y_pred)\n",
    "\n",
    "    intersection = backend.sum(y_true_f * y_pred_f)\n",
    "    return 1-(2. * intersection + 1e-7) / (backend.sum(y_true_f) + backend.sum(y_pred_f) + 1e-7)"
   ]
  },
  {
   "cell_type": "markdown",
   "metadata": {},
   "source": [
    "# <b/>3. Data Load"
   ]
  },
  {
   "cell_type": "code",
   "execution_count": 3,
   "metadata": {},
   "outputs": [
    {
     "name": "stdout",
     "output_type": "stream",
     "text": [
      "\tTrain\t\t\tTest\n",
      "X\t(240, 256, 256, 1)\t(27, 256, 256, 1)\n",
      "Y\t(240, 256, 256, 1)\t(27, 256, 256, 1)\n"
     ]
    }
   ],
   "source": [
    "x_train = np.load('dataset/x_train.npy')\n",
    "x_val = np.load('dataset/x_val.npy')\n",
    "y_train = np.load('dataset/y_train.npy')\n",
    "y_val = np.load('dataset/y_val.npy')\n",
    "print(\"\\tTrain\\t\\t\\tTest\\nX\\t{}\\t{}\\nY\\t{}\\t{}\".format(x_train.shape, x_val.shape, y_train.shape, y_val.shape))"
   ]
  },
  {
   "cell_type": "markdown",
   "metadata": {},
   "source": [
    "# <b/>4. Create Model"
   ]
  },
  {
   "cell_type": "code",
   "execution_count": 4,
   "metadata": {},
   "outputs": [
    {
     "name": "stdout",
     "output_type": "stream",
     "text": [
      "Model: \"sequential\"\n",
      "________________________________________________________________________________________________________________________\n",
      " Layer (type)                                         Output Shape                                    Param #           \n",
      "========================================================================================================================\n",
      " conv2d (Conv2D)                                      (None, 256, 256, 32)                            320               \n",
      "                                                                                                                        \n",
      " batch_normalization (BatchNormalization)             (None, 256, 256, 32)                            128               \n",
      "                                                                                                                        \n",
      " conv2d_1 (Conv2D)                                    (None, 256, 256, 32)                            9248              \n",
      "                                                                                                                        \n",
      " batch_normalization_1 (BatchNormalization)           (None, 256, 256, 32)                            128               \n",
      "                                                                                                                        \n",
      " max_pooling2d (MaxPooling2D)                         (None, 128, 128, 32)                            0                 \n",
      "                                                                                                                        \n",
      " conv2d_2 (Conv2D)                                    (None, 128, 128, 64)                            18496             \n",
      "                                                                                                                        \n",
      " batch_normalization_2 (BatchNormalization)           (None, 128, 128, 64)                            256               \n",
      "                                                                                                                        \n",
      " conv2d_3 (Conv2D)                                    (None, 128, 128, 64)                            36928             \n",
      "                                                                                                                        \n",
      " batch_normalization_3 (BatchNormalization)           (None, 128, 128, 64)                            256               \n",
      "                                                                                                                        \n",
      " max_pooling2d_1 (MaxPooling2D)                       (None, 64, 64, 64)                              0                 \n",
      "                                                                                                                        \n",
      " conv2d_4 (Conv2D)                                    (None, 64, 64, 128)                             73856             \n",
      "                                                                                                                        \n",
      " batch_normalization_4 (BatchNormalization)           (None, 64, 64, 128)                             512               \n",
      "                                                                                                                        \n",
      " conv2d_5 (Conv2D)                                    (None, 64, 64, 128)                             147584            \n",
      "                                                                                                                        \n",
      " batch_normalization_5 (BatchNormalization)           (None, 64, 64, 128)                             512               \n",
      "                                                                                                                        \n",
      " max_pooling2d_2 (MaxPooling2D)                       (None, 32, 32, 128)                             0                 \n",
      "                                                                                                                        \n",
      " up_sampling2d (UpSampling2D)                         (None, 64, 64, 128)                             0                 \n",
      "                                                                                                                        \n",
      " conv2d_6 (Conv2D)                                    (None, 64, 64, 128)                             147584            \n",
      "                                                                                                                        \n",
      " batch_normalization_6 (BatchNormalization)           (None, 64, 64, 128)                             512               \n",
      "                                                                                                                        \n",
      " conv2d_7 (Conv2D)                                    (None, 64, 64, 128)                             147584            \n",
      "                                                                                                                        \n"
     ]
    },
    {
     "name": "stderr",
     "output_type": "stream",
     "text": []
    },
    {
     "name": "stdout",
     "output_type": "stream",
     "text": [
      " batch_normalization_7 (BatchNormalization)           (None, 64, 64, 128)                             512               \n",
      "                                                                                                                        \n",
      " up_sampling2d_1 (UpSampling2D)                       (None, 128, 128, 128)                           0                 \n",
      "                                                                                                                        \n",
      " conv2d_8 (Conv2D)                                    (None, 128, 128, 64)                            73792             \n",
      "                                                                                                                        \n",
      " batch_normalization_8 (BatchNormalization)           (None, 128, 128, 64)                            256               \n",
      "                                                                                                                        \n",
      " conv2d_9 (Conv2D)                                    (None, 128, 128, 64)                            36928             \n",
      "                                                                                                                        \n",
      " batch_normalization_9 (BatchNormalization)           (None, 128, 128, 64)                            256               \n",
      "                                                                                                                        \n",
      " up_sampling2d_2 (UpSampling2D)                       (None, 256, 256, 64)                            0                 \n",
      "                                                                                                                        \n",
      " conv2d_10 (Conv2D)                                   (None, 256, 256, 32)                            18464             \n",
      "                                                                                                                        \n",
      " batch_normalization_10 (BatchNormalization)          (None, 256, 256, 32)                            128               \n",
      "                                                                                                                        \n",
      " conv2d_11 (Conv2D)                                   (None, 256, 256, 32)                            9248              \n",
      "                                                                                                                        \n",
      " batch_normalization_11 (BatchNormalization)          (None, 256, 256, 32)                            128               \n",
      "                                                                                                                        \n",
      " conv2d_12 (Conv2D)                                   (None, 256, 256, 1)                             33                \n",
      "                                                                                                                        \n",
      "========================================================================================================================\n",
      "Total params: 723,649\n",
      "Trainable params: 721,857\n",
      "Non-trainable params: 1,792\n",
      "________________________________________________________________________________________________________________________\n"
     ]
    }
   ],
   "source": [
    "model = Sequential()\n",
    "# Encoder\n",
    "## 32x256x256\n",
    "model.add(Conv2D(32, kernel_size=3, padding='same', activation='relu', input_shape=x_train[0].shape))\n",
    "model.add(BatchNormalization())\n",
    "model.add(Conv2D(32, kernel_size=3, padding='same', activation='relu'))\n",
    "model.add(BatchNormalization())\n",
    "model.add(MaxPooling2D(2))\n",
    "## 64x128x128\n",
    "model.add(Conv2D(64, kernel_size=3, padding='same', activation='relu'))\n",
    "model.add(BatchNormalization())\n",
    "model.add(Conv2D(64, kernel_size=3, padding='same', activation='relu'))\n",
    "model.add(BatchNormalization())\n",
    "model.add(MaxPooling2D(2))\n",
    "## 128x64x64\n",
    "model.add(Conv2D(128, kernel_size=3, padding='same', activation='relu'))\n",
    "model.add(BatchNormalization())\n",
    "model.add(Conv2D(128, kernel_size=3, padding='same', activation='relu'))\n",
    "model.add(BatchNormalization())\n",
    "model.add(MaxPooling2D(2))\n",
    "\n",
    "# Decoder\n",
    "## 128x64x64\n",
    "model.add(UpSampling2D(size=2))\n",
    "model.add(Conv2D(128, kernel_size=3, activation='relu', padding='same'))\n",
    "model.add(BatchNormalization())\n",
    "model.add(Conv2D(128, kernel_size=3, activation='relu', padding='same'))\n",
    "model.add(BatchNormalization())\n",
    "## 64x128x128\n",
    "model.add(UpSampling2D(size=2))\n",
    "model.add(Conv2D(64, kernel_size=3, activation='relu', padding='same'))\n",
    "model.add(BatchNormalization())\n",
    "model.add(Conv2D(64, kernel_size=3, activation='relu', padding='same'))\n",
    "model.add(BatchNormalization())\n",
    "## 32x256x256\n",
    "model.add(UpSampling2D(size=2))\n",
    "model.add(Conv2D(32, kernel_size=3, activation='relu', padding='same'))\n",
    "model.add(BatchNormalization())\n",
    "model.add(Conv2D(32, kernel_size=3, activation='relu', padding='same'))\n",
    "model.add(BatchNormalization())\n",
    "\n",
    "# Output\n",
    "model.add(Conv2D(1,kernel_size=1, activation='sigmoid'))\n",
    "model.compile(optimizer='adam', loss=[dice_coef_loss], metrics=[dice_coef])\n",
    "model.summary(line_length=120)"
   ]
  },
  {
   "cell_type": "markdown",
   "metadata": {},
   "source": [
    "# <b/>5. Learning"
   ]
  },
  {
   "cell_type": "code",
   "execution_count": 5,
   "metadata": {},
   "outputs": [
    {
     "name": "stdout",
     "output_type": "stream",
     "text": [
      "Epoch 1/100\n"
     ]
    },
    {
     "name": "stderr",
     "output_type": "stream",
     "text": []
    },
    {
     "name": "stdout",
     "output_type": "stream",
     "text": [
      "30/30 [==============================] - 6s 68ms/step - loss: 0.1969 - dice_coef: 0.8031 - val_loss: 0.9997 - val_dice_coef: 3.0607e-04\n",
      "Epoch 2/100\n",
      "30/30 [==============================] - 1s 44ms/step - loss: 0.0870 - dice_coef: 0.9130 - val_loss: 0.9742 - val_dice_coef: 0.0259\n",
      "Epoch 3/100\n",
      "30/30 [==============================] - 1s 44ms/step - loss: 0.0586 - dice_coef: 0.9414 - val_loss: 0.9761 - val_dice_coef: 0.0238\n",
      "Epoch 4/100\n",
      "30/30 [==============================] - 1s 44ms/step - loss: 0.0403 - dice_coef: 0.9597 - val_loss: 0.9713 - val_dice_coef: 0.0277\n",
      "Epoch 5/100\n",
      "30/30 [==============================] - 1s 44ms/step - loss: 0.0362 - dice_coef: 0.9638 - val_loss: 0.9546 - val_dice_coef: 0.0442\n",
      "Epoch 6/100\n",
      "30/30 [==============================] - 1s 44ms/step - loss: 0.0310 - dice_coef: 0.9690 - val_loss: 0.7704 - val_dice_coef: 0.2305\n",
      "Epoch 7/100\n",
      "30/30 [==============================] - 1s 44ms/step - loss: 0.0290 - dice_coef: 0.9710 - val_loss: 0.4909 - val_dice_coef: 0.5213\n",
      "Epoch 8/100\n",
      "30/30 [==============================] - 1s 44ms/step - loss: 0.0274 - dice_coef: 0.9726 - val_loss: 0.5424 - val_dice_coef: 0.4690\n",
      "Epoch 9/100\n",
      "30/30 [==============================] - 1s 44ms/step - loss: 0.0260 - dice_coef: 0.9740 - val_loss: 0.0491 - val_dice_coef: 0.9552\n",
      "Epoch 10/100\n",
      "30/30 [==============================] - 1s 44ms/step - loss: 0.0264 - dice_coef: 0.9736 - val_loss: 0.0494 - val_dice_coef: 0.9540\n",
      "Epoch 11/100\n",
      "30/30 [==============================] - 1s 44ms/step - loss: 0.0247 - dice_coef: 0.9753 - val_loss: 0.0633 - val_dice_coef: 0.9426\n",
      "Epoch 12/100\n",
      "30/30 [==============================] - 1s 44ms/step - loss: 0.0253 - dice_coef: 0.9747 - val_loss: 0.0517 - val_dice_coef: 0.9494\n",
      "Epoch 13/100\n",
      "30/30 [==============================] - 1s 44ms/step - loss: 0.0240 - dice_coef: 0.9760 - val_loss: 0.0457 - val_dice_coef: 0.9585\n",
      "Epoch 14/100\n",
      "30/30 [==============================] - 1s 44ms/step - loss: 0.0230 - dice_coef: 0.9770 - val_loss: 0.0456 - val_dice_coef: 0.9587\n",
      "Epoch 15/100\n",
      "30/30 [==============================] - 1s 44ms/step - loss: 0.0220 - dice_coef: 0.9780 - val_loss: 0.0488 - val_dice_coef: 0.9547\n",
      "Epoch 16/100\n",
      "30/30 [==============================] - 1s 44ms/step - loss: 0.0217 - dice_coef: 0.9783 - val_loss: 0.0457 - val_dice_coef: 0.9582\n",
      "Epoch 17/100\n",
      "30/30 [==============================] - 1s 44ms/step - loss: 0.0215 - dice_coef: 0.9785 - val_loss: 0.0970 - val_dice_coef: 0.8928\n",
      "Epoch 18/100\n",
      "30/30 [==============================] - 1s 44ms/step - loss: 0.0241 - dice_coef: 0.9759 - val_loss: 0.1920 - val_dice_coef: 0.7891\n",
      "Epoch 19/100\n",
      "30/30 [==============================] - 1s 44ms/step - loss: 0.0208 - dice_coef: 0.9792 - val_loss: 0.0534 - val_dice_coef: 0.9465\n",
      "Epoch 20/100\n",
      "30/30 [==============================] - 1s 45ms/step - loss: 0.0216 - dice_coef: 0.9784 - val_loss: 0.0635 - val_dice_coef: 0.9429\n",
      "Epoch 21/100\n",
      "30/30 [==============================] - 1s 44ms/step - loss: 0.0275 - dice_coef: 0.9725 - val_loss: 0.0560 - val_dice_coef: 0.9489\n",
      "Epoch 22/100\n",
      "30/30 [==============================] - 1s 44ms/step - loss: 0.0258 - dice_coef: 0.9742 - val_loss: 0.1313 - val_dice_coef: 0.8577\n",
      "Epoch 23/100\n",
      "30/30 [==============================] - 1s 44ms/step - loss: 0.0206 - dice_coef: 0.9794 - val_loss: 0.2195 - val_dice_coef: 0.7617\n",
      "Epoch 24/100\n",
      "30/30 [==============================] - 1s 44ms/step - loss: 0.0190 - dice_coef: 0.9810 - val_loss: 0.1996 - val_dice_coef: 0.7803\n",
      "Epoch 25/100\n",
      "30/30 [==============================] - 1s 44ms/step - loss: 0.0191 - dice_coef: 0.9809 - val_loss: 0.0452 - val_dice_coef: 0.9573\n",
      "Epoch 26/100\n",
      "30/30 [==============================] - 1s 44ms/step - loss: 0.0180 - dice_coef: 0.9820 - val_loss: 0.0544 - val_dice_coef: 0.9453\n",
      "Epoch 27/100\n",
      "30/30 [==============================] - 1s 44ms/step - loss: 0.0173 - dice_coef: 0.9827 - val_loss: 0.0434 - val_dice_coef: 0.9604\n",
      "Epoch 28/100\n",
      "30/30 [==============================] - 1s 44ms/step - loss: 0.0168 - dice_coef: 0.9832 - val_loss: 0.0423 - val_dice_coef: 0.9617\n",
      "Epoch 29/100\n",
      "30/30 [==============================] - 1s 44ms/step - loss: 0.0169 - dice_coef: 0.9831 - val_loss: 0.0429 - val_dice_coef: 0.9611\n",
      "Epoch 30/100\n",
      "30/30 [==============================] - 1s 44ms/step - loss: 0.0169 - dice_coef: 0.9831 - val_loss: 0.0429 - val_dice_coef: 0.9612\n",
      "Epoch 31/100\n",
      "30/30 [==============================] - 1s 44ms/step - loss: 0.0172 - dice_coef: 0.9828 - val_loss: 0.0425 - val_dice_coef: 0.9614\n",
      "Epoch 32/100\n",
      "30/30 [==============================] - 1s 44ms/step - loss: 0.0158 - dice_coef: 0.9842 - val_loss: 0.0422 - val_dice_coef: 0.9618\n",
      "Epoch 33/100\n",
      "30/30 [==============================] - 1s 44ms/step - loss: 0.0204 - dice_coef: 0.9796 - val_loss: 0.0633 - val_dice_coef: 0.9393\n",
      "Epoch 34/100\n",
      "30/30 [==============================] - 1s 44ms/step - loss: 0.0185 - dice_coef: 0.9815 - val_loss: 0.0464 - val_dice_coef: 0.9577\n",
      "Epoch 35/100\n",
      "30/30 [==============================] - 1s 44ms/step - loss: 0.0194 - dice_coef: 0.9806 - val_loss: 0.0606 - val_dice_coef: 0.9392\n",
      "Epoch 36/100\n",
      "30/30 [==============================] - 1s 44ms/step - loss: 0.0212 - dice_coef: 0.9788 - val_loss: 0.0824 - val_dice_coef: 0.9218\n",
      "Epoch 37/100\n",
      "30/30 [==============================] - 1s 45ms/step - loss: 0.0186 - dice_coef: 0.9814 - val_loss: 0.0480 - val_dice_coef: 0.9526\n",
      "Epoch 38/100\n",
      "30/30 [==============================] - 1s 44ms/step - loss: 0.0177 - dice_coef: 0.9823 - val_loss: 0.0474 - val_dice_coef: 0.9547\n",
      "Epoch 39/100\n",
      "30/30 [==============================] - 1s 45ms/step - loss: 0.0184 - dice_coef: 0.9816 - val_loss: 0.0449 - val_dice_coef: 0.9579\n",
      "Epoch 40/100\n",
      "30/30 [==============================] - 1s 45ms/step - loss: 0.0163 - dice_coef: 0.9837 - val_loss: 0.0439 - val_dice_coef: 0.9592\n",
      "Epoch 41/100\n",
      "30/30 [==============================] - 1s 44ms/step - loss: 0.0154 - dice_coef: 0.9846 - val_loss: 0.0430 - val_dice_coef: 0.9607\n",
      "Epoch 42/100\n",
      "30/30 [==============================] - 1s 44ms/step - loss: 0.0158 - dice_coef: 0.9842 - val_loss: 0.0420 - val_dice_coef: 0.9617\n",
      "Epoch 43/100\n",
      "30/30 [==============================] - 1s 44ms/step - loss: 0.0147 - dice_coef: 0.9853 - val_loss: 0.0436 - val_dice_coef: 0.9592\n",
      "Epoch 44/100\n",
      "30/30 [==============================] - 1s 44ms/step - loss: 0.0168 - dice_coef: 0.9832 - val_loss: 0.0453 - val_dice_coef: 0.9580\n",
      "Epoch 45/100\n",
      "30/30 [==============================] - 1s 44ms/step - loss: 0.0289 - dice_coef: 0.9711 - val_loss: 0.6473 - val_dice_coef: 0.3613\n",
      "Epoch 46/100\n",
      "30/30 [==============================] - 1s 45ms/step - loss: 0.0223 - dice_coef: 0.9777 - val_loss: 0.4281 - val_dice_coef: 0.5794\n",
      "Epoch 47/100\n",
      "30/30 [==============================] - 1s 44ms/step - loss: 0.0202 - dice_coef: 0.9798 - val_loss: 0.0439 - val_dice_coef: 0.9601\n",
      "Epoch 48/100\n",
      "30/30 [==============================] - 1s 44ms/step - loss: 0.0172 - dice_coef: 0.9828 - val_loss: 0.0432 - val_dice_coef: 0.9607\n",
      "Epoch 49/100\n",
      "30/30 [==============================] - 1s 44ms/step - loss: 0.0158 - dice_coef: 0.9842 - val_loss: 0.0421 - val_dice_coef: 0.9620\n",
      "Epoch 50/100\n",
      "30/30 [==============================] - 1s 45ms/step - loss: 0.0153 - dice_coef: 0.9847 - val_loss: 0.0426 - val_dice_coef: 0.9610\n",
      "Epoch 51/100\n",
      "30/30 [==============================] - 1s 44ms/step - loss: 0.0155 - dice_coef: 0.9845 - val_loss: 0.0447 - val_dice_coef: 0.9574\n",
      "Epoch 52/100\n",
      "30/30 [==============================] - 1s 44ms/step - loss: 0.0150 - dice_coef: 0.9850 - val_loss: 0.0416 - val_dice_coef: 0.9623\n",
      "Epoch 53/100\n",
      "30/30 [==============================] - 1s 44ms/step - loss: 0.0146 - dice_coef: 0.9854 - val_loss: 0.0463 - val_dice_coef: 0.9551\n",
      "Epoch 54/100\n",
      "30/30 [==============================] - 1s 44ms/step - loss: 0.0154 - dice_coef: 0.9846 - val_loss: 0.0481 - val_dice_coef: 0.9563\n",
      "Epoch 55/100\n",
      "30/30 [==============================] - 1s 44ms/step - loss: 0.0154 - dice_coef: 0.9846 - val_loss: 0.0434 - val_dice_coef: 0.9609\n",
      "Epoch 56/100\n",
      "30/30 [==============================] - 1s 44ms/step - loss: 0.0158 - dice_coef: 0.9842 - val_loss: 0.2347 - val_dice_coef: 0.7421\n",
      "Epoch 57/100\n",
      "30/30 [==============================] - 1s 44ms/step - loss: 0.0149 - dice_coef: 0.9851 - val_loss: 0.1198 - val_dice_coef: 0.8665\n",
      "Epoch 58/100\n",
      "30/30 [==============================] - 1s 44ms/step - loss: 0.0145 - dice_coef: 0.9855 - val_loss: 0.0470 - val_dice_coef: 0.9537\n",
      "Epoch 59/100\n",
      "30/30 [==============================] - 1s 44ms/step - loss: 0.0142 - dice_coef: 0.9858 - val_loss: 0.0569 - val_dice_coef: 0.9496\n",
      "Epoch 60/100\n",
      "30/30 [==============================] - 1s 44ms/step - loss: 0.0144 - dice_coef: 0.9856 - val_loss: 0.0469 - val_dice_coef: 0.9537\n",
      "Epoch 61/100\n",
      "30/30 [==============================] - 1s 44ms/step - loss: 0.0141 - dice_coef: 0.9859 - val_loss: 0.0434 - val_dice_coef: 0.9597\n",
      "Epoch 62/100\n",
      "30/30 [==============================] - 1s 44ms/step - loss: 0.0145 - dice_coef: 0.9855 - val_loss: 0.0421 - val_dice_coef: 0.9620\n",
      "Epoch 63/100\n",
      "30/30 [==============================] - 1s 44ms/step - loss: 0.0139 - dice_coef: 0.9861 - val_loss: 0.0516 - val_dice_coef: 0.9465\n",
      "Epoch 64/100\n",
      "30/30 [==============================] - 1s 44ms/step - loss: 0.0141 - dice_coef: 0.9859 - val_loss: 0.0415 - val_dice_coef: 0.9625\n",
      "Epoch 65/100\n",
      "30/30 [==============================] - 1s 45ms/step - loss: 0.0133 - dice_coef: 0.9867 - val_loss: 0.0411 - val_dice_coef: 0.9629\n",
      "Epoch 66/100\n",
      "30/30 [==============================] - 1s 44ms/step - loss: 0.0132 - dice_coef: 0.9868 - val_loss: 0.0458 - val_dice_coef: 0.9553\n",
      "Epoch 67/100\n",
      "30/30 [==============================] - 1s 44ms/step - loss: 0.0135 - dice_coef: 0.9865 - val_loss: 0.0441 - val_dice_coef: 0.9604\n",
      "Epoch 68/100\n",
      "30/30 [==============================] - 1s 43ms/step - loss: 0.0133 - dice_coef: 0.9867 - val_loss: 0.0421 - val_dice_coef: 0.9620\n",
      "Epoch 69/100\n",
      "30/30 [==============================] - 1s 44ms/step - loss: 0.0133 - dice_coef: 0.9867 - val_loss: 0.0409 - val_dice_coef: 0.9631\n",
      "Epoch 70/100\n",
      "30/30 [==============================] - 1s 44ms/step - loss: 0.0133 - dice_coef: 0.9867 - val_loss: 0.0449 - val_dice_coef: 0.9596\n",
      "Epoch 71/100\n",
      "30/30 [==============================] - 1s 44ms/step - loss: 0.0137 - dice_coef: 0.9863 - val_loss: 0.0430 - val_dice_coef: 0.9611\n",
      "Epoch 72/100\n",
      "30/30 [==============================] - 1s 44ms/step - loss: 0.0135 - dice_coef: 0.9865 - val_loss: 0.0437 - val_dice_coef: 0.9598\n",
      "Epoch 73/100\n",
      "30/30 [==============================] - 1s 45ms/step - loss: 0.0139 - dice_coef: 0.9861 - val_loss: 0.0477 - val_dice_coef: 0.9572\n",
      "Epoch 74/100\n",
      "30/30 [==============================] - 1s 44ms/step - loss: 0.0127 - dice_coef: 0.9873 - val_loss: 0.0769 - val_dice_coef: 0.9305\n",
      "Epoch 75/100\n",
      "30/30 [==============================] - 1s 44ms/step - loss: 0.0128 - dice_coef: 0.9872 - val_loss: 0.0504 - val_dice_coef: 0.9549\n",
      "Epoch 76/100\n",
      "30/30 [==============================] - 1s 45ms/step - loss: 0.0131 - dice_coef: 0.9869 - val_loss: 0.0429 - val_dice_coef: 0.9615\n",
      "Epoch 77/100\n",
      "30/30 [==============================] - 1s 44ms/step - loss: 0.0129 - dice_coef: 0.9871 - val_loss: 0.0773 - val_dice_coef: 0.9283\n",
      "Epoch 78/100\n",
      "30/30 [==============================] - 1s 44ms/step - loss: 0.0135 - dice_coef: 0.9865 - val_loss: 0.0413 - val_dice_coef: 0.9628\n",
      "Epoch 79/100\n",
      "30/30 [==============================] - 1s 44ms/step - loss: 0.0128 - dice_coef: 0.9872 - val_loss: 0.0412 - val_dice_coef: 0.9629\n",
      "Epoch 80/100\n",
      "30/30 [==============================] - 1s 44ms/step - loss: 0.0130 - dice_coef: 0.9870 - val_loss: 0.0412 - val_dice_coef: 0.9629\n",
      "Epoch 81/100\n",
      "30/30 [==============================] - 1s 44ms/step - loss: 0.0128 - dice_coef: 0.9872 - val_loss: 0.0410 - val_dice_coef: 0.9631\n",
      "Epoch 82/100\n",
      "30/30 [==============================] - 1s 44ms/step - loss: 0.0495 - dice_coef: 0.9505 - val_loss: 0.1600 - val_dice_coef: 0.8371\n",
      "Epoch 83/100\n",
      "30/30 [==============================] - 1s 44ms/step - loss: 0.0323 - dice_coef: 0.9677 - val_loss: 0.3564 - val_dice_coef: 0.6253\n",
      "Epoch 84/100\n",
      "30/30 [==============================] - 1s 44ms/step - loss: 0.0271 - dice_coef: 0.9729 - val_loss: 0.2155 - val_dice_coef: 0.7732\n",
      "Epoch 85/100\n",
      "30/30 [==============================] - 1s 44ms/step - loss: 0.0242 - dice_coef: 0.9758 - val_loss: 0.2994 - val_dice_coef: 0.6805\n",
      "Epoch 86/100\n",
      "30/30 [==============================] - 1s 44ms/step - loss: 0.0209 - dice_coef: 0.9791 - val_loss: 0.2692 - val_dice_coef: 0.7104\n",
      "Epoch 87/100\n",
      "30/30 [==============================] - 1s 44ms/step - loss: 0.0199 - dice_coef: 0.9801 - val_loss: 0.0537 - val_dice_coef: 0.9456\n",
      "Epoch 88/100\n",
      "30/30 [==============================] - 1s 45ms/step - loss: 0.0186 - dice_coef: 0.9814 - val_loss: 0.0444 - val_dice_coef: 0.9583\n",
      "Epoch 89/100\n",
      "30/30 [==============================] - 1s 44ms/step - loss: 0.0180 - dice_coef: 0.9820 - val_loss: 0.0479 - val_dice_coef: 0.9546\n",
      "Epoch 90/100\n",
      "30/30 [==============================] - 1s 45ms/step - loss: 0.0182 - dice_coef: 0.9818 - val_loss: 0.0427 - val_dice_coef: 0.9612\n",
      "Epoch 91/100\n",
      "30/30 [==============================] - 1s 44ms/step - loss: 0.0174 - dice_coef: 0.9826 - val_loss: 0.0422 - val_dice_coef: 0.9618\n",
      "Epoch 92/100\n",
      "30/30 [==============================] - 1s 44ms/step - loss: 0.0170 - dice_coef: 0.9830 - val_loss: 0.0452 - val_dice_coef: 0.9583\n",
      "Epoch 93/100\n",
      "30/30 [==============================] - 1s 44ms/step - loss: 0.0182 - dice_coef: 0.9818 - val_loss: 0.0455 - val_dice_coef: 0.9587\n",
      "Epoch 94/100\n",
      "30/30 [==============================] - 1s 44ms/step - loss: 0.0170 - dice_coef: 0.9830 - val_loss: 0.0465 - val_dice_coef: 0.9577\n",
      "Epoch 95/100\n",
      "30/30 [==============================] - 1s 45ms/step - loss: 0.0169 - dice_coef: 0.9831 - val_loss: 0.0417 - val_dice_coef: 0.9621\n",
      "Epoch 96/100\n",
      "30/30 [==============================] - 1s 44ms/step - loss: 0.0165 - dice_coef: 0.9835 - val_loss: 0.0450 - val_dice_coef: 0.9588\n",
      "Epoch 97/100\n",
      "30/30 [==============================] - 1s 44ms/step - loss: 0.0191 - dice_coef: 0.9809 - val_loss: 0.0422 - val_dice_coef: 0.9617\n",
      "Epoch 98/100\n",
      "30/30 [==============================] - 1s 44ms/step - loss: 0.0165 - dice_coef: 0.9835 - val_loss: 0.0457 - val_dice_coef: 0.9564\n",
      "Epoch 99/100\n",
      "30/30 [==============================] - 1s 44ms/step - loss: 0.0157 - dice_coef: 0.9843 - val_loss: 0.0420 - val_dice_coef: 0.9619\n",
      "Epoch 100/100\n",
      "30/30 [==============================] - 1s 44ms/step - loss: 0.0167 - dice_coef: 0.9833 - val_loss: 0.0416 - val_dice_coef: 0.9624\n"
     ]
    }
   ],
   "source": [
    "epochs = 100\n",
    "with device('/GPU:2'):\n",
    "    history = model.fit(x_train, y_train, validation_data=(x_val, y_val),\n",
    "                        epochs=epochs, batch_size=8)"
   ]
  },
  {
   "cell_type": "markdown",
   "metadata": {},
   "source": [
    "# <b/>6. Show Result"
   ]
  },
  {
   "cell_type": "code",
   "execution_count": 6,
   "metadata": {},
   "outputs": [
    {
     "data": {
      "image/png": "[encoded data removed]",
      "text/plain": [
       "<Figure size 864x576 with 4 Axes>"
      ]
     },
     "metadata": {
      "needs_background": "light"
     },
     "output_type": "display_data"
    }
   ],
   "source": [
    "epochs = np.arange(100)+1\n",
    "plt.figure(figsize=(12,8))\n",
    "plt.subplot(2,2,1), plt.grid(), plt.plot(epochs, history.history['dice_coef'], 'r')\n",
    "plt.xlim(0,epochs[-1]), plt.title('dice_coef')\n",
    "\n",
    "plt.subplot(2,2,2), plt.grid(), plt.plot(epochs, history.history['loss'], 'b')\n",
    "plt.xlim(0,epochs[-1]), plt.title('dice_coef_loss')\n",
    "\n",
    "plt.subplot(2,2,3), plt.grid(), plt.plot(epochs, history.history['val_dice_coef'], 'r--')\n",
    "plt.xlim(0,epochs[-1]), plt.title('val_dice_coef')\n",
    "\n",
    "plt.subplot(2,2,4), plt.grid(), plt.plot(epochs, history.history['val_loss'], 'b--')\n",
    "plt.xlim(0,epochs[-1]), plt.title('val_dice_coef_loss')\n",
    "\n",
    "plt.show()"
   ]
  }
 ],
 "metadata": {
  "kernelspec": {
   "display_name": "Python 3.8.10 ('sislab')",
   "language": "python",
   "name": "python3"
  },
  "language_info": {
   "codemirror_mode": {
    "name": "ipython",
    "version": 3
   },
   "file_extension": ".py",
   "mimetype": "text/x-python",
   "name": "python",
   "nbconvert_exporter": "python",
   "pygments_lexer": "ipython3",
   "version": "3.8.10"
  },
  "orig_nbformat": 4,
  "vscode": {
   "interpreter": {
    "hash": "b895f2a5de8fe2d14cd4f814fb419df2149ee9eab8150b70a210b8f645bd69af"
   }
  }
 },
 "nbformat": 4,
 "nbformat_minor": 2
}
